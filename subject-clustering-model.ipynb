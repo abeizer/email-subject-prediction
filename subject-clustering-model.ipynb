{
 "cells": [
  {
   "cell_type": "code",
   "execution_count": 26,
   "metadata": {},
   "outputs": [],
   "source": [
    "import pandas as pd\n",
    "import numpy as np\n",
    "import matplotlib.pyplot as plt\n",
    "import csv"
   ]
  },
  {
   "cell_type": "markdown",
   "metadata": {},
   "source": [
    "# Reading in the data"
   ]
  },
  {
   "cell_type": "markdown",
   "metadata": {},
   "source": [
    "The first data set we are going to analyze is the Enron Corpus.<br/>\n",
    "Because the corpus is so large, we really would not want to load all of the emails into python at once.<br/>\n",
    "Therefore, I have split the original csv, containing all 500k emails, into smaller files of about 10k emails each.<br/>\n",
    "We will start with loading the first snippet of the emails using pandas.<br/>\n",
    "<br/>\n",
    "The read_csv method is finding some character that it is not expecting. I have been unable to find any error in<br/>\n",
    "line it doesn't like. I have also not found any emails that are not complete or read properly, so simply suppressing<br/>\n",
    "this error should be enough for now unless it becomes an issue later."
   ]
  },
  {
   "cell_type": "code",
   "execution_count": 40,
   "metadata": {},
   "outputs": [
    {
     "name": "stderr",
     "output_type": "stream",
     "text": [
      "Skipping line 178: ',' expected after '\"'\n",
      "Skipping line 192: ',' expected after '\"'\n",
      "Skipping line 7832: field larger than field limit (131072)\n",
      "Skipping line 9688: ',' expected after '\"'\n",
      "Skipping line 204: Expected 2 fields in line 204, saw 3\n",
      "Skipping line 211: Expected 2 fields in line 211, saw 3\n",
      "Skipping line 9702: Expected 2 fields in line 9702, saw 5\n",
      "Skipping line 9703: Expected 2 fields in line 9703, saw 5\n"
     ]
    }
   ],
   "source": [
    "train = pd.read_csv(\"enron_dataset/enron emails_chunk2.csv\", engine=\"python\", error_bad_lines=False)"
   ]
  },
  {
   "cell_type": "code",
   "execution_count": 39,
   "metadata": {},
   "outputs": [
    {
     "name": "stdout",
     "output_type": "stream",
     "text": [
      "(9827, 2)\n"
     ]
    }
   ],
   "source": [
    "print(train.shape)"
   ]
  },
  {
   "cell_type": "code",
   "execution_count": 35,
   "metadata": {},
   "outputs": [
    {
     "name": "stdout",
     "output_type": "stream",
     "text": [
      "Message-ID: <6290289.1075854802780.JavaMail.evans@thyme>\n",
      "Date: Thu, 21 Dec 2000 00:31:00 -0800 (PST)\n",
      "From: eric.bass@enron.com\n",
      "To: jason.bass2@compaq.com\n",
      "Subject: RE:\n",
      "Mime-Version: 1.0\n",
      "Content-Type: text/plain; charset=us-ascii\n",
      "Content-Transfer-Encoding: 7bit\n",
      "X-From: Eric Bass\n",
      "X-To: \"Bass, Jason\" <Jason.Bass2@COMPAQ.com> @ ENRON\n",
      "X-cc: \n",
      "X-bcc: \n",
      "X-Folder: \\Eric_Bass_Jun2001\\Notes Folders\\'sent mail\n",
      "X-Origin: Bass-E\n",
      "X-FileName: ebass.nsf\n",
      "\n",
      "i don't know yet about the $ but i will probably go with the advanced.  it \n",
      "will probably be $200-300.\n",
      "\n",
      "\n",
      "\n",
      "\n",
      "\"Bass, Jason\" <Jason.Bass2@COMPAQ.com> on 12/21/2000 08:00:00 AM\n",
      "To: \"'Eric.Bass@enron.com'\" <Eric.Bass@enron.com>\n",
      "cc:  \n",
      "Subject: RE:\n",
      "\n",
      "\n",
      "How much extra do you have to pay?\n",
      "Which laptop would you get?\n",
      "\n",
      "-----Original Message-----\n",
      "From: Eric.Bass@enron.com [mailto:Eric.Bass@enron.com]\n",
      "Sent: Wednesday, December 20, 2000 10:54 AM\n",
      "To: Bass, Jason\n",
      "Subject:\n",
      "\n",
      "\n",
      "here is the new comp program for enron - i think i will pay extra for the\n",
      "advanced laptop.  what do you think of the options?     - eric\n",
      "(Embedded image moved to file: pic04734.pcx)\n",
      "\n",
      "\n"
     ]
    }
   ],
   "source": [
    "print(train['message'][10429])"
   ]
  },
  {
   "cell_type": "code",
   "execution_count": null,
   "metadata": {},
   "outputs": [],
   "source": []
  }
 ],
 "metadata": {
  "kernelspec": {
   "display_name": "Python 3",
   "language": "python",
   "name": "python3"
  },
  "language_info": {
   "codemirror_mode": {
    "name": "ipython",
    "version": 3
   },
   "file_extension": ".py",
   "mimetype": "text/x-python",
   "name": "python",
   "nbconvert_exporter": "python",
   "pygments_lexer": "ipython3",
   "version": "3.6.5"
  }
 },
 "nbformat": 4,
 "nbformat_minor": 2
}
