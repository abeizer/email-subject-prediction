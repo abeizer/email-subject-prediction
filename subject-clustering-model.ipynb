{
 "cells": [
  {
   "cell_type": "code",
   "execution_count": 41,
   "metadata": {},
   "outputs": [],
   "source": [
    "import pandas as pd\n",
    "import numpy as np\n",
    "import matplotlib.pyplot as plt\n",
    "import csv"
   ]
  },
  {
   "cell_type": "markdown",
   "metadata": {},
   "source": [
    "# Reading in the data"
   ]
  },
  {
   "cell_type": "markdown",
   "metadata": {},
   "source": [
    "The first data set we are going to analyze is the Enron Corpus.<br/>\n",
    "Because the corpus is so large, we really would not want to load all of the emails into python at once.<br/>\n",
    "Therefore, I have split the original csv, containing all 500k emails, into smaller files of about 10k emails each.<br/>\n",
    "We will start with loading the first snippet of the emails using pandas.<br/>\n",
    "<br/>\n",
    "Every cvs file has a header, telling pandas to record each email as in two parts: a filename and the email's body.<br/>\n",
    "I also made sure that no emails are split between two different files - every email is present in its entirety within<br/>\n",
    "a single file."
   ]
  },
  {
   "cell_type": "code",
   "execution_count": 97,
   "metadata": {
    "scrolled": true
   },
   "outputs": [],
   "source": [
    "train = pd.read_csv(\"enron_dataset/enron emails_chunk6.csv\")"
   ]
  },
  {
   "cell_type": "code",
   "execution_count": 98,
   "metadata": {},
   "outputs": [
    {
     "name": "stdout",
     "output_type": "stream",
     "text": [
      "(7942, 2)\n"
     ]
    }
   ],
   "source": [
    "print(train.shape)"
   ]
  },
  {
   "cell_type": "code",
   "execution_count": 100,
   "metadata": {},
   "outputs": [
    {
     "name": "stdout",
     "output_type": "stream",
     "text": [
      "dasovich-j/all_documents/11121.\n"
     ]
    }
   ],
   "source": [
    "print(train['file'][7000])"
   ]
  },
  {
   "cell_type": "code",
   "execution_count": 101,
   "metadata": {},
   "outputs": [
    {
     "name": "stdout",
     "output_type": "stream",
     "text": [
      "Message-ID: <31608256.1075843428423.JavaMail.evans@thyme>\r\n",
      "Date: Sat, 14 Apr 2001 00:39:00 -0700 (PDT)\r\n",
      "From: jbennett@gmssr.com\r\n",
      "To: harry.kingerski@enron.com, dblack@enron.com, james.d.steffes@enron.com, \r\n",
      "\tjlewis@enron.com, jeff.dasovich@enron.com, paul.kaufman@enron.com, \r\n",
      "\trobert.neustaedter@enron.com, susan.j.mara@enron.com, \r\n",
      "\ttjohnso8@enron.com, leslie.lawner@enron.com\r\n",
      "Subject: FW: A.00-11-038 Rate Design Proposal of the Energy Producers and\r\n",
      " \tUser s\r\n",
      "Mime-Version: 1.0\r\n",
      "Content-Type: text/plain; charset=us-ascii\r\n",
      "Content-Transfer-Encoding: 7bit\r\n",
      "X-From: JBennett <JBennett@GMSSR.com>\r\n",
      "X-To: \"'Harry Kingerski (E-mail)'\" <Harry.Kingerski@enron.com>, \"'dblack@enron.com'\" <dblack@enron.com>, \"'James.D.Steffes@enron.com'\"\t <James.D.Steffes@enron.com>, \"'jlewis@enron.com'\" <jlewis@enron.com>, \"'Jeff.Dasovich@enron.com'\" <Jeff.Dasovich@enron.com>, \"'Paul.Kaufman@enron.com'\" <Paul.Kaufman@enron.com>, \"'Robert.Neustaedter@enron.com'\" <Robert.Neustaedter@enron.com>, \"'Susan.J.Mara@enron.com'\" <Susan.J.Mara@enron.com>, \"'tjohnso8@enron.com'\" <tjohnso8@enron.com>, \"'Leslie.Lawner@enron.com'\"\t <Leslie.Lawner@enron.com>\r\n",
      "X-cc: \r\n",
      "X-bcc: \r\n",
      "X-Folder: \\Jeff_Dasovich_June2001\\Notes Folders\\All documents\r\n",
      "X-Origin: DASOVICH-J\r\n",
      "X-FileName: jdasovic.nsf\r\n",
      "\r\n",
      "-----Original Message-----\r\n",
      "From: Phil Vizcarra [mailto:pav@a-klaw.com]\r\n",
      "Sent: Friday, April 13, 2001 3:17 PM\r\n",
      "To: jbushee@sablaw.com; kmccrea@sablaw.com; callen@akingump.com;\r\n",
      "jweisgall@aol.com; rogerberliner@bcjlaw.com; rcsstl@cdmnet.com;\r\n",
      "mbrubaker@consultbai.com; anchau@shellus.com;\r\n",
      "keith-sappenfield@reliantenergy.com; jsmollon@newwestenergy.com;\r\n",
      "jlyoung@sempra.com; napedersen@jonesday.com; athomas@newenergy.com;\r\n",
      "kmcspadd@milbank.com; hchoy@isd.co.la.ca.us; lgurick@calpx.com;\r\n",
      "douglass@arterhadden.com; randy_britt@mayco.com; dmarshall@greggind.com;\r\n",
      "frank.cooley@sce.com; glwaas@calpx.com; uwuaregion5@earthlink.net;\r\n",
      "fmo@sdcity.sannet.gov; jleslie@luce.com; julesan@aol.com;\r\n",
      "mshames@ucan.org; jparrott@sempra.com; kmelville@sempra.com;\r\n",
      "riald@kindermorgan.com; bill.mccallum@ci.fresno.ca.us;\r\n",
      "btenney@landuselaw.com; ronknecht@aol.com;\r\n",
      "furutanj@efawest.navfac.navy.mil; kpoole@adamsbroadwell.com;\r\n",
      "mdjoseph@adamsbroadwell.com; freedman@turn.org; rcosta@turn.org;\r\n",
      "bfinkelstein@turn.org; theresa_mueller@ci.sf.ca.us; jjz@cpuc.ca.gov;\r\n",
      "chrisw@greenlining.org; joseh@lif.org; Evelyn Kahl; jnnc@chevron.com;\r\n",
      "jlondon@gralegal.com; imoosen@gralegal.com; clpearce@duanemorris.com;\r\n",
      "phanschen@mofo.com; tmberliner@duanemorris.com; dpritchard@mofo.com;\r\n",
      "smoss@hooked.net; epoole@adplaw.com; chilen@llgm.com; jsqueri@gmssr.com;\r\n",
      "jbennett@gmssr.com; bloomje@la.whitecase.com; pbray@newpower.com;\r\n",
      "rick.counihan@greenmountain.com; thoulihan@mdbe.com; mday@gmssr.com;\r\n",
      "jmalkin@orrick.com; edwardoneill@dwt.com; lindseyhowdowning@dwt.com;\r\n",
      "jguzman@nossaman.com; whe1@pge.com; ssmyers@worldnet.att.net;\r\n",
      "pxo2@pge.com; pat.williams@dhcmail.com; wbooth@booth-law.com;\r\n",
      "jerryl@abag.ca.gov; mgomez1@bart.gov; askaff@energy-law-group.com;\r\n",
      "pjpowerlaw@aol.com; difellman@energy-law-group.com;\r\n",
      "nryan@environmentaldefense.org; rschmidt@bartlewells.com;\r\n",
      "rrcollins@n-h-i.org; patrickm@crossborderenergy.com;\r\n",
      "tomb@crossborderenergy.com; brbarkovich@earthlink.net;\r\n",
      "pmcdonne@wenet.net; pjmuller@ricochet.net; jbradley@svmg.org;\r\n",
      "tsmegal@calwater.com; sberlin@mccarthylaw.com; bishop@jrwood.com;\r\n",
      "cwrmccv@worldnet.att.net; scottst@mid.org; bill@jbsenergy.com;\r\n",
      "cmkehrein@ems-ca.com; jweil@aglet.org; abb@eslawfirm.com;\r\n",
      "bpowers@seniors.org; dcarroll@dbsr.com; dkk@eslawfirm.com; ed@clfp.com;\r\n",
      "jtachera@energy.state.ca.us; howens@seniors.org;\r\n",
      "sgreenberg@realenergy.com; tknox@klalawfirm.com; smutny@iepa.com;\r\n",
      "lmh@eslawfirm.com; hodgesjl@pacbell.net; rpernell@energy.state.ca.us;\r\n",
      "kmills@cfbf.com; rliebert@cfbf.com; aorchar@smud.org; Michael Alcantar;\r\n",
      "jcpaine@stoel.com; mhg@hetrading.com; dws@keywaycorp.com;\r\n",
      "hbd@gweiss.com; gerhordt.herbert@msdw.com; cread@steptoe.com;\r\n",
      "jogg@jhenergy.com; peter_fox-penner@brattle.com;\r\n",
      "DavoodiKR@efaches.navfac.navy.mil; bill.wells@afcesa.af.mil;\r\n",
      "ad046@detroit.freenet.org; bob_anderson@apses.com; gdreed@sidley.com;\r\n",
      "robert.d.schasel@fritolay.com; cyounger@manatt.com; dhuard@manatt.com;\r\n",
      "rkeen@manatt.com; georgeperrault@msn.com; picketse@sce.com;\r\n",
      "jsilva@edisonenterprises.com; jherrera@dpw.co.la.ca.us;\r\n",
      "LVanWagenen@sempra.com; jbarthrop@powersavers.com; foothill@lmi.net;\r\n",
      "fosterbc@sce.com; ljhubbard@sempra.com; ktilton@gralegal.com;\r\n",
      "mpatel@brownwoodlaw.com; paul.harris@bridge.com; oshirock@pacbell.net;\r\n",
      "natutt@duanemorris.com; j3m9@pge.com; musicamaria@yahoo.com;\r\n",
      "derkp@newsdata.com; luluw@newsdata.com; tom.oneill@abnamro.com;\r\n",
      "mmattes@nossaman.com; RJP2@pge.com; brb3@pge.com; ell5@pge.com;\r\n",
      "jyf1@pge.com; NXK2@pge.com; rrh3@pge.com; alexm@calpine.com;\r\n",
      "gtbl@dynegy.com; joe.paul@dynegy.com; honest@compuserve.com;\r\n",
      "jyoung@ebmud.com; jon.jacobs@paconsulting.com;\r\n",
      "emitchel@angnewspapers.com; jptang@oaklandcityattorney.org;\r\n",
      "rbw@mrwassoc.com; dmarcus@slip.net; jeff@hmhresources.com; ed@apx.com;\r\n",
      "wendy@econinsights.com; chrism@mid.org; fwmonier@tid.org;\r\n",
      "rmccann@cal.net; blaising@braunlegal.com; melanie_gillette@rmiinc.com;\r\n",
      "twetzel@thermoecotek.com; Slayman@energy.state.ca.us;\r\n",
      "swchurchill@juno.com; jdh@eslawfirm.com; ddavie@hesinet.com;\r\n",
      "karen@klindh.com; cpeyton@sacbee.com; thaines@smud.org;\r\n",
      "huse@eesconsulting.com; mer@cpuc.ca.gov; awp@cpuc.ca.gov;\r\n",
      "cmw@cpuc.ca.gov; ctd@cpuc.ca.gov; bsl@cpuc.ca.gov; dlf@cpuc.ca.gov;\r\n",
      "fua@cpuc.ca.gov; jlo@cpuc.ca.gov; jsw@cpuc.ca.gov; jrd@cpuc.ca.gov;\r\n",
      "jmh@cpuc.ca.gov; kok@cpuc.ca.gov; kim@cpuc.ca.gov; llk@cpuc.ca.gov;\r\n",
      "lss@cpuc.ca.gov; mv1@cpuc.ca.gov; pmd@cpuc.ca.gov; gig@cpuc.ca.gov;\r\n",
      "rtf@cpuc.ca.gov; raw@cpuc.ca.gov; sfc@cpuc.ca.gov; car@cpuc.ca.gov;\r\n",
      "txb@cpuc.ca.gov; ztc@cpuc.ca.gov; nevillm@hdcdojnet.state.ca.us;\r\n",
      "dwrlegal1@water.ca.gov; ath@cpuc.ca.gov; LKristov@energy.state.ca.us;\r\n",
      "randy.chinn@senate.ca.gov; firmiyas@dof.ca.gov; rax@cpuc.ca.gov;\r\n",
      "rtavares@energy.state.ca.us; mschwebs@energy.state.ca.us\r\n",
      "Subject: A.00-11-038 Rate Design Proposal of the Energy Producers and\r\n",
      "User s\r\n",
      "\r\n",
      "\r\n",
      "Attached pursuant to the Assigned Commissioner Ruling in A.00-11-038 et\r\n",
      "al is the Rate Design Proposal of the Energy Producers and Users\r\n",
      "Coalition.  The proposal includes three attachments:\r\n",
      "\r\n",
      "1.   Prepared Direct Testimony of Donald W. Schoenbeck on Behalf of the\r\n",
      "Energy Producers and Users Coalition and Rate Spread and Rate Design\r\n",
      "Proposal (Schedule 1).\r\n",
      "\r\n",
      "2.    Schedule 2:  EPUC ACR Template for Southern California Edison\r\n",
      "Company.\r\n",
      "\r\n",
      "3.    Schedule 3: EPUC ACR Template for Pacific Gas and Electric\r\n",
      "Company.\r\n",
      "\r\n",
      "Should you have any problems opening the attached documents, please let me\r\n",
      "know.\r\n",
      "\r\n",
      "Phil Vizcarra\r\n",
      "Alcantar & Kahl LLP\r\n",
      "\r\n",
      " <<EPUC Rate Design Testimony .doc>>  <<Exhibit DWS Schedule 2 EPUC Rate\r\n",
      "Design Testimony .doc>>  <<Exhibit DWS Schedule 3 EPUC Rate Design Testimony\r\n",
      ".doc>>\r\n",
      "\r\n",
      "\r\n",
      "\r\n",
      "\r\n",
      "\r\n",
      "\r\n",
      " - EPUC Rate Design Testimony .doc\r\n",
      " - Exhibit DWS Schedule 2 EPUC Rate Design Testimony .doc\r\n",
      " - Exhibit DWS Schedule 3 EPUC Rate Design Testimony .doc\n"
     ]
    }
   ],
   "source": [
    "print(train['message'][7000])"
   ]
  },
  {
   "cell_type": "code",
   "execution_count": null,
   "metadata": {},
   "outputs": [],
   "source": []
  }
 ],
 "metadata": {
  "kernelspec": {
   "display_name": "Python 3",
   "language": "python",
   "name": "python3"
  },
  "language_info": {
   "codemirror_mode": {
    "name": "ipython",
    "version": 3
   },
   "file_extension": ".py",
   "mimetype": "text/x-python",
   "name": "python",
   "nbconvert_exporter": "python",
   "pygments_lexer": "ipython3",
   "version": "3.6.5"
  }
 },
 "nbformat": 4,
 "nbformat_minor": 2
}
