{
 "cells": [
  {
   "cell_type": "code",
   "execution_count": 41,
   "metadata": {},
   "outputs": [],
   "source": [
    "import pandas as pd\n",
    "import numpy as np\n",
    "import matplotlib.pyplot as plt\n",
    "import csv"
   ]
  },
  {
   "cell_type": "markdown",
   "metadata": {},
   "source": [
    "# Reading in the data"
   ]
  },
  {
   "cell_type": "markdown",
   "metadata": {},
   "source": [
    "The first data set we are going to analyze is the Enron Corpus.<br/>\n",
    "Because the corpus is so large, we really would not want to load all of the emails into python at once.<br/>\n",
    "Therefore, I have split the original csv, containing all 500k emails, into smaller files of about 10k emails each.<br/>\n",
    "We will start with loading the first snippet of the emails using pandas.<br/>\n",
    "<br/>\n",
    "The read_csv method is finding some character that it is not expecting. I have been unable to find any error in<br/>\n",
    "line it doesn't like. I have also not found any emails that are not complete or read properly, so simply suppressing<br/>\n",
    "this error should be enough for now unless it becomes an issue later."
   ]
  },
  {
   "cell_type": "code",
   "execution_count": 68,
   "metadata": {
    "scrolled": true
   },
   "outputs": [
    {
     "name": "stderr",
     "output_type": "stream",
     "text": [
      "Skipping line 8914: field larger than field limit (131072)\n",
      "Skipping line 9053: field larger than field limit (131072)\n",
      "Skipping line 9070: ',' expected after '\"'\n",
      "Skipping line 9137: ',' expected after '\"'\n",
      "Skipping line 9139: ',' expected after '\"'\n",
      "Skipping line 9460: ',' expected after '\"'\n",
      "Skipping line 9678: ',' expected after '\"'\n",
      "Skipping line 9752: ',' expected after '\"'\n",
      "Skipping line 10113: ',' expected after '\"'\n",
      "Skipping line 10181: ',' expected after '\"'\n",
      "Skipping line 10333: ',' expected after '\"'\n",
      "Skipping line 10421: ',' expected after '\"'\n",
      "Skipping line 9041: Expected 2 fields in line 9041, saw 3\n",
      "Skipping line 9053: Expected 2 fields in line 9053, saw 3\n",
      "Skipping line 9055: Expected 2 fields in line 9055, saw 3\n",
      "Skipping line 9062: Expected 2 fields in line 9062, saw 3\n",
      "Skipping line 9063: Expected 2 fields in line 9063, saw 3\n",
      "Skipping line 9072: Expected 2 fields in line 9072, saw 3\n",
      "Skipping line 9073: Expected 2 fields in line 9073, saw 3\n",
      "Skipping line 9099: Expected 2 fields in line 9099, saw 3\n",
      "Skipping line 9102: Expected 2 fields in line 9102, saw 3\n",
      "Skipping line 9108: Expected 2 fields in line 9108, saw 3\n",
      "Skipping line 9110: Expected 2 fields in line 9110, saw 5\n",
      "Skipping line 9118: Expected 2 fields in line 9118, saw 3\n",
      "Skipping line 9126: Expected 2 fields in line 9126, saw 3\n",
      "Skipping line 9176: Expected 2 fields in line 9176, saw 3\n",
      "Skipping line 9214: Expected 2 fields in line 9214, saw 3\n",
      "Skipping line 9222: Expected 2 fields in line 9222, saw 3\n",
      "Skipping line 9226: Expected 2 fields in line 9226, saw 4\n",
      "Skipping line 9234: Expected 2 fields in line 9234, saw 3\n",
      "Skipping line 9236: Expected 2 fields in line 9236, saw 3\n",
      "Skipping line 9246: Expected 2 fields in line 9246, saw 3\n",
      "Skipping line 9269: Expected 2 fields in line 9269, saw 3\n",
      "Skipping line 9294: Expected 2 fields in line 9294, saw 4\n",
      "Skipping line 9295: Expected 2 fields in line 9295, saw 3\n",
      "Skipping line 9304: Expected 2 fields in line 9304, saw 3\n",
      "Skipping line 9326: Expected 2 fields in line 9326, saw 3\n",
      "Skipping line 9344: Expected 2 fields in line 9344, saw 3\n",
      "Skipping line 9347: Expected 2 fields in line 9347, saw 3\n",
      "Skipping line 9354: Expected 2 fields in line 9354, saw 3\n",
      "Skipping line 9360: Expected 2 fields in line 9360, saw 3\n",
      "Skipping line 9369: Expected 2 fields in line 9369, saw 3\n",
      "Skipping line 9392: Expected 2 fields in line 9392, saw 3\n",
      "Skipping line 9421: Expected 2 fields in line 9421, saw 4\n",
      "Skipping line 9436: Expected 2 fields in line 9436, saw 3\n",
      "Skipping line 9441: Expected 2 fields in line 9441, saw 3\n",
      "Skipping line 9450: Expected 2 fields in line 9450, saw 3\n",
      "Skipping line 9460: Expected 2 fields in line 9460, saw 5\n",
      "Skipping line 9472: Expected 2 fields in line 9472, saw 3\n",
      "Skipping line 9485: Expected 2 fields in line 9485, saw 3\n",
      "Skipping line 9491: Expected 2 fields in line 9491, saw 3\n",
      "Skipping line 9502: Expected 2 fields in line 9502, saw 3\n",
      "Skipping line 9506: Expected 2 fields in line 9506, saw 4\n",
      "Skipping line 9528: Expected 2 fields in line 9528, saw 3\n",
      "Skipping line 9539: Expected 2 fields in line 9539, saw 3\n",
      "Skipping line 9542: Expected 2 fields in line 9542, saw 3\n",
      "Skipping line 9549: Expected 2 fields in line 9549, saw 3\n",
      "Skipping line 9554: Expected 2 fields in line 9554, saw 3\n",
      "Skipping line 9559: Expected 2 fields in line 9559, saw 3\n",
      "Skipping line 9563: Expected 2 fields in line 9563, saw 4\n",
      "Skipping line 9572: Expected 2 fields in line 9572, saw 3\n",
      "Skipping line 9584: Expected 2 fields in line 9584, saw 3\n",
      "Skipping line 9610: Expected 2 fields in line 9610, saw 3\n",
      "Skipping line 9620: Expected 2 fields in line 9620, saw 3\n",
      "Skipping line 9631: Expected 2 fields in line 9631, saw 3\n",
      "Skipping line 9635: Expected 2 fields in line 9635, saw 3\n",
      "Skipping line 9636: Expected 2 fields in line 9636, saw 3\n",
      "Skipping line 9643: Expected 2 fields in line 9643, saw 3\n",
      "Skipping line 9644: Expected 2 fields in line 9644, saw 3\n",
      "Skipping line 9663: Expected 2 fields in line 9663, saw 3\n",
      "Skipping line 9672: Expected 2 fields in line 9672, saw 3\n",
      "Skipping line 9675: Expected 2 fields in line 9675, saw 3\n",
      "Skipping line 9684: Expected 2 fields in line 9684, saw 3\n",
      "Skipping line 9685: Expected 2 fields in line 9685, saw 3\n",
      "Skipping line 9693: Expected 2 fields in line 9693, saw 3\n",
      "Skipping line 9706: Expected 2 fields in line 9706, saw 3\n",
      "Skipping line 9720: Expected 2 fields in line 9720, saw 3\n",
      "Skipping line 9725: Expected 2 fields in line 9725, saw 3\n",
      "Skipping line 9726: Expected 2 fields in line 9726, saw 3\n",
      "Skipping line 9747: Expected 2 fields in line 9747, saw 3\n",
      "Skipping line 9760: Expected 2 fields in line 9760, saw 3\n",
      "Skipping line 9772: Expected 2 fields in line 9772, saw 3\n",
      "Skipping line 9786: Expected 2 fields in line 9786, saw 3\n",
      "Skipping line 9798: Expected 2 fields in line 9798, saw 3\n",
      "Skipping line 9820: Expected 2 fields in line 9820, saw 4\n",
      "Skipping line 9822: Expected 2 fields in line 9822, saw 3\n",
      "Skipping line 9839: Expected 2 fields in line 9839, saw 3\n",
      "Skipping line 9849: Expected 2 fields in line 9849, saw 3\n",
      "Skipping line 9852: Expected 2 fields in line 9852, saw 3\n",
      "Skipping line 9860: Expected 2 fields in line 9860, saw 3\n",
      "Skipping line 9873: Expected 2 fields in line 9873, saw 3\n",
      "Skipping line 9898: Expected 2 fields in line 9898, saw 3\n",
      "Skipping line 9907: Expected 2 fields in line 9907, saw 3\n",
      "Skipping line 9911: Expected 2 fields in line 9911, saw 3\n",
      "Skipping line 9950: Expected 2 fields in line 9950, saw 3\n",
      "Skipping line 9965: Expected 2 fields in line 9965, saw 3\n",
      "Skipping line 9976: Expected 2 fields in line 9976, saw 3\n",
      "Skipping line 9979: Expected 2 fields in line 9979, saw 3\n",
      "Skipping line 9989: Expected 2 fields in line 9989, saw 3\n",
      "Skipping line 10014: Expected 2 fields in line 10014, saw 3\n",
      "Skipping line 10031: Expected 2 fields in line 10031, saw 3\n",
      "Skipping line 10040: Expected 2 fields in line 10040, saw 4\n",
      "Skipping line 10045: Expected 2 fields in line 10045, saw 3\n",
      "Skipping line 10052: Expected 2 fields in line 10052, saw 3\n",
      "Skipping line 10066: Expected 2 fields in line 10066, saw 3\n",
      "Skipping line 10073: Expected 2 fields in line 10073, saw 3\n",
      "Skipping line 10083: Expected 2 fields in line 10083, saw 3\n",
      "Skipping line 10097: Expected 2 fields in line 10097, saw 3\n",
      "Skipping line 10107: Expected 2 fields in line 10107, saw 3\n",
      "Skipping line 10127: Expected 2 fields in line 10127, saw 3\n",
      "Skipping line 10152: Expected 2 fields in line 10152, saw 3\n",
      "Skipping line 10164: Expected 2 fields in line 10164, saw 3\n",
      "Skipping line 10166: Expected 2 fields in line 10166, saw 3\n",
      "Skipping line 10176: Expected 2 fields in line 10176, saw 3\n",
      "Skipping line 10178: Expected 2 fields in line 10178, saw 4\n",
      "Skipping line 10188: Expected 2 fields in line 10188, saw 3\n",
      "Skipping line 10199: Expected 2 fields in line 10199, saw 3\n",
      "Skipping line 10210: Expected 2 fields in line 10210, saw 3\n",
      "Skipping line 10235: Expected 2 fields in line 10235, saw 3\n",
      "Skipping line 10249: Expected 2 fields in line 10249, saw 3\n",
      "Skipping line 10261: Expected 2 fields in line 10261, saw 3\n",
      "Skipping line 10272: Expected 2 fields in line 10272, saw 4\n",
      "Skipping line 10279: Expected 2 fields in line 10279, saw 3\n",
      "Skipping line 10305: Expected 2 fields in line 10305, saw 3\n",
      "Skipping line 10313: Expected 2 fields in line 10313, saw 3\n",
      "Skipping line 10330: Expected 2 fields in line 10330, saw 3\n",
      "Skipping line 10341: Expected 2 fields in line 10341, saw 4\n",
      "Skipping line 10343: Expected 2 fields in line 10343, saw 3\n",
      "Skipping line 10364: Expected 2 fields in line 10364, saw 3\n",
      "Skipping line 10379: Expected 2 fields in line 10379, saw 3\n",
      "Skipping line 10380: Expected 2 fields in line 10380, saw 3\n",
      "Skipping line 10382: Expected 2 fields in line 10382, saw 3\n",
      "Skipping line 10393: Expected 2 fields in line 10393, saw 3\n",
      "Skipping line 10394: Expected 2 fields in line 10394, saw 3\n",
      "Skipping line 10402: Expected 2 fields in line 10402, saw 3\n",
      "Skipping line 10411: Expected 2 fields in line 10411, saw 3\n",
      "Skipping line 10414: Expected 2 fields in line 10414, saw 3\n",
      "Skipping line 10420: Expected 2 fields in line 10420, saw 3\n"
     ]
    }
   ],
   "source": [
    "train = pd.read_csv(\"enron_dataset/enron emails_chunk5.csv\", error_bad_lines=False)"
   ]
  },
  {
   "cell_type": "code",
   "execution_count": 65,
   "metadata": {},
   "outputs": [
    {
     "name": "stdout",
     "output_type": "stream",
     "text": [
      "(14507, 2)\n"
     ]
    }
   ],
   "source": [
    "print(train.shape)"
   ]
  },
  {
   "cell_type": "code",
   "execution_count": 67,
   "metadata": {},
   "outputs": [
    {
     "name": "stdout",
     "output_type": "stream",
     "text": [
      "Message-ID: <24699919.1075857850689.JavaMail.evans@thyme>\n",
      "Date: Tue, 21 Nov 2000 07:29:00 -0800 (PST)\n",
      "From: richard.hrabal@enron.com\n",
      "To: joe.errigo@enron.com, jay.wills@enron.com, don.baughman@enron.com, \n",
      "\trudy.acevedo@enron.com, cyril.price@enron.com, john.kinser@enron.com, \n",
      "\tlarry.jester@enron.com, jason.choate@enron.com, \n",
      "\tjuan.hernandez@enron.com, wayne.herndon@enron.com, \n",
      "\tlawrence.clayton@enron.com, kayne.coulter@enron.com, \n",
      "\tchad.starnes@enron.com, keller.mayeaux@enron.com, \n",
      "\tjoe.stepenovitch@enron.com, miguel.garcia@enron.com, \n",
      "\trussell.ballato@enron.com, larry.campbell@enron.com\n",
      "Subject: Beverage Facts\n",
      "Mime-Version: 1.0\n",
      "Content-Type: text/plain; charset=us-ascii\n",
      "Content-Transfer-Encoding: 7bit\n",
      "X-From: Richard Hrabal\n",
      "X-To: Joe Errigo, Jay Wills, Don Baughman, Rudy Acevedo, Cyril Price, John Kinser, Larry Jester, Jason Choate, Juan Hernandez, Wayne Herndon, Lawrence Clayton, Kayne Coulter, Chad Starnes, Keller Mayeaux, Joe Stepenovitch, Miguel L Garcia, Russell Ballato, Larry F Campbell\n",
      "X-cc: \n",
      "X-bcc: \n",
      "X-Folder: \\Larry_Campbell_Dec2000\\Notes Folders\\All documents\n",
      "X-Origin: Campbell-L\n",
      "X-FileName: lcampbel.nsf\n",
      "\n",
      "A full seven percent of the entire Irish barley crop goes to the production \n",
      "of Guinness beer. \n"
     ]
    }
   ],
   "source": [
    "print(train['message'][14500])"
   ]
  },
  {
   "cell_type": "code",
   "execution_count": null,
   "metadata": {},
   "outputs": [],
   "source": []
  }
 ],
 "metadata": {
  "kernelspec": {
   "display_name": "Python 3",
   "language": "python",
   "name": "python3"
  },
  "language_info": {
   "codemirror_mode": {
    "name": "ipython",
    "version": 3
   },
   "file_extension": ".py",
   "mimetype": "text/x-python",
   "name": "python",
   "nbconvert_exporter": "python",
   "pygments_lexer": "ipython3",
   "version": "3.6.5"
  }
 },
 "nbformat": 4,
 "nbformat_minor": 2
}
